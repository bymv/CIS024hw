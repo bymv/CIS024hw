{
 "cells": [
  {
   "cell_type": "markdown",
   "metadata": {},
   "source": [
    "\n",
    "# CIS024C - Spring 2018 - Monday 5:30-9:25pm \n",
    "\n",
    "## Homework 6\n",
    "\n",
    "Homework 6 covers exercises that involve working with functions\n",
    "\n",
    "The below sites have some interesting and useful information on working with files\n",
    "\n",
    "https://www.learnpython.org/en/Functions\n",
    "https://www.tutorialspoint.com/python/python_functions.htm\n",
    "\n",
    "You will need to download this notebook and use this as a starting point for your homework. You will just need to fill in the content of each code-block (cell) and execute. Once you have completed all the exercises, you will need to save and upload this to your github repository under a folder called hw5.\n",
    "\n",
    "Note also the exercises build on top of one another so you might be able to do the next exercise if you have not completed the previous exercise.\n",
    "\n",
    "Post any questions you have on our Slack at **cis-024c1.slack.com**\n",
    "\n",
    "** Slides ** for Week 6 can be found at \n",
    "\n",
    "https://docs.google.com/presentation/d/1XGV2NR0ZAAmQYjlRuy81zzlW2g5lWS8L6a7iRV-lreQ/edit?usp=sharing\n",
    "\n",
    "**Please refer back to hw1 and slack for instructions on how to setup your computer for developing using Python.**"
   ]
  },
  {
   "cell_type": "markdown",
   "metadata": {},
   "source": [
    "### Helpful Jupyter Commands\n",
    "\n",
    "Below are some useful commands to know when using Jupyter\n",
    "\n",
    "1. You can add a new cell by clicking on the \"+\" icon on top.\n",
    "2. You can delete a cell by selecting that cell and clicking on the \"scissors\" icon on top.\n",
    "3. You can execute a cell by either pressing shift+enter or selecting the \"play\" button on top.\n",
    "4. You can create a new file in Jupyter via the File menu->New Notebook option. Make sure to select Python 2 when creating your notebook.\n",
    "5. Also, for your code blocks make sure that Code is selected instead of another option like Markdown.\n",
    "6. Use the Enter key to go to the next line in a cell to enter the next statement.\n",
    "7. You can clear results by clicking on the Cell menu item and selecting Current Output->Clear or All Output->Clear depending on whether you are trying to just clear the output for one cell or for all cells.\n",
    "8. In case your program has crashed for some reason (infinite loop, for example), you can restart your Python session by select Kernel in the menu and selecting Restart.\n"
   ]
  },
  {
   "cell_type": "markdown",
   "metadata": {},
   "source": [
    "#### Check Python Version"
   ]
  },
  {
   "cell_type": "code",
   "execution_count": 21,
   "metadata": {},
   "outputs": [
    {
     "name": "stderr",
     "output_type": "stream",
     "text": [
      "Python 2.7.14 :: Anaconda, Inc.\n"
     ]
    }
   ],
   "source": [
    "!python --version"
   ]
  },
  {
   "cell_type": "markdown",
   "metadata": {},
   "source": [
    "#### Sample Exercises with Functions\n",
    "\n",
    "Refer to Week 6 slides for a recap of what happened in Week 6\n",
    "\n",
    "https://docs.google.com/presentation/d/1XGV2NR0ZAAmQYjlRuy81zzlW2g5lWS8L6a7iRV-lreQ/edit?usp=sharing"
   ]
  },
  {
   "cell_type": "markdown",
   "metadata": {},
   "source": [
    "**Exercise 1 - Testing your knowledge of functions **\n",
    "\n",
    "Answer the below questions\n",
    "\n",
    "1. What is a function in Python?\n",
    "2. What are the advantages of using functions?"
   ]
  },
  {
   "cell_type": "markdown",
   "metadata": {},
   "source": [
    "<<Q1: It is a block of reusable code\n",
    "  Q2: Functions provide better modularity for your application and a high degree of code reusing. It can be executed by invoking the function when required.  It can accept input parameters and return output parameters >>"
   ]
  },
  {
   "cell_type": "markdown",
   "metadata": {},
   "source": [
    "#### Exercise 2 -  Max of three numbers\n",
    "\n",
    "Write a Python function to find the Max of three numbers.\n",
    "\n",
    "Make sure you invoke this function in your main program and display the result"
   ]
  },
  {
   "cell_type": "code",
   "execution_count": 22,
   "metadata": {},
   "outputs": [
    {
     "name": "stdout",
     "output_type": "stream",
     "text": [
      "input a number: 3\n",
      "input a number: 8\n",
      "input a number: 9\n",
      "9\n"
     ]
    }
   ],
   "source": [
    "### YOUR CODE GOES \n",
    "def FindMax(a, b, c): \n",
    "    max = a\n",
    "    if b > max:\n",
    "        max = b\n",
    "    if c > max: \n",
    "        max = c\n",
    "    return max\n",
    "a = int(raw_input(\"input a number: \"))\n",
    "b = int(raw_input(\"input a number: \"))\n",
    "c = int(raw_input(\"input a number: \"))\n",
    "MaxValue = FindMax(a, b, c)\n",
    "\n",
    "print MaxValue\n",
    "\n",
    "### CODE"
   ]
  },
  {
   "cell_type": "markdown",
   "metadata": {},
   "source": [
    "#### Exercise 3 - Finding the sum of numbers in a list\n",
    "\n",
    "Write a Python function to sum all the numbers in a list\n",
    "\n",
    "Make sure you invoke this function in your main program and display the result"
   ]
  },
  {
   "cell_type": "code",
   "execution_count": 12,
   "metadata": {
    "scrolled": true
   },
   "outputs": [
    {
     "name": "stdout",
     "output_type": "stream",
     "text": [
      "Enter A Number (enter to exit): 6\n",
      "Enter A Number (enter to exit): 4\n",
      "Enter A Number (enter to exit): 4\n",
      "Enter A Number (enter to exit): 6\n",
      "Enter A Number (enter to exit): 6\n",
      "Enter A Number (enter to exit): 4\n",
      "Enter A Number (enter to exit): 7\n",
      "Enter A Number (enter to exit): 3\n",
      "Enter A Number (enter to exit): 2\n",
      "Enter A Number (enter to exit): 8\n",
      "Enter A Number (enter to exit): \n",
      "50\n"
     ]
    }
   ],
   "source": [
    "### YOUR CODE GOES BELOW\n",
    "\n",
    "def FindSum(List1): \n",
    "    sum = 0\n",
    "    for i in range(len(List1)):\n",
    "        sum += List1[i]\n",
    "    return sum\n",
    "\n",
    "x = 'a'\n",
    "y = 0\n",
    "InputList = []\n",
    "while x != '':\n",
    "    x = raw_input(\"Enter A Number (enter to exit): \")\n",
    "    if x != '':\n",
    "        y = int(x[0])\n",
    "        InputList.append(y)\n",
    "        \n",
    "sum = FindSum(InputList)\n",
    "\n",
    "print sum\n",
    "\n",
    "### END CODE"
   ]
  },
  {
   "cell_type": "markdown",
   "metadata": {},
   "source": [
    "4\n",
    "4\n",
    "#### Exercise 4 - Finding the product of numbers in a list\n",
    "\n",
    "Write a Python function to multiply all the numbers in a list\n",
    "\n",
    "Make sure you invoke this function in your main program and display the result"
   ]
  },
  {
   "cell_type": "code",
   "execution_count": 17,
   "metadata": {},
   "outputs": [
    {
     "name": "stdout",
     "output_type": "stream",
     "text": [
      "Enter A Number (enter to exit): 2\n",
      "Enter A Number (enter to exit): 2\n",
      "Enter A Number (enter to exit): 2\n",
      "Enter A Number (enter to exit): \n",
      "8\n"
     ]
    }
   ],
   "source": [
    "### YOUR CODE GOES BELOW\n",
    "\n",
    "\n",
    "\n",
    "def FindProduct(List1): \n",
    "    prod = 1\n",
    "    for i in range(len(List1)):\n",
    "        prod *= List1[i]\n",
    "    return prod\n",
    "\n",
    "x = 'a'\n",
    "y = 0\n",
    "InputList = []\n",
    "while x != '':\n",
    "    x = raw_input(\"Enter A Number (enter to exit): \")\n",
    "    if x != '':\n",
    "        y = int(x[0])\n",
    "        InputList.append(y)\n",
    "        \n",
    "prod = FindProduct(InputList)\n",
    "\n",
    "print prod\n",
    "\n",
    "### END CODE"
   ]
  },
  {
   "cell_type": "markdown",
   "metadata": {},
   "source": [
    "#### Exercise 5 - Reversing a String\n",
    "\n",
    "Write a Python function to reverse a string\n",
    "\n",
    "Make sure you invoke this function in your main program and display the result"
   ]
  },
  {
   "cell_type": "code",
   "execution_count": 20,
   "metadata": {},
   "outputs": [
    {
     "name": "stdout",
     "output_type": "stream",
     "text": [
      "Enter a String: Jack and Jill\n",
      "lliJ dna kcaJ\n"
     ]
    }
   ],
   "source": [
    "### YOUR CODE GOES BELOW\n",
    "\n",
    "\n",
    "\n",
    "def ReverseString(inString): \n",
    "    rs = \"\"\n",
    "    for i in inString:\n",
    "        rs = i + rs\n",
    "    return rs\n",
    "\n",
    "revString = \"\"\n",
    "InputString = \"\"\n",
    "InputString = raw_input(\"Enter a String: \")\n",
    "        \n",
    "revString = ReverseString(InputString)\n",
    "\n",
    "print revString\n",
    "\n",
    "### END CODE"
   ]
  },
  {
   "cell_type": "markdown",
   "metadata": {},
   "source": [
    "## OPTIONAL EXERCISES\n",
    "\n",
    "Below is a set of optional exercises. These will not be graded but the solutions will be posted. I would strongly encourage you to try these out if you are done with the mandatory homework exercises to improve your understanding of python."
   ]
  },
  {
   "cell_type": "markdown",
   "metadata": {},
   "source": [
    "#### Exercise 6\n",
    "\n",
    "Write a Python function that accepts a string and calculate the number of upper case letters and lower case letters.\n",
    "\n",
    "Make sure you invoke this function in your main program and display the result"
   ]
  },
  {
   "cell_type": "code",
   "execution_count": 35,
   "metadata": {
    "scrolled": true
   },
   "outputs": [
    {
     "name": "stdout",
     "output_type": "stream",
     "text": [
      "Enter a String: Jenny And Mike Spent $800.00 Today In Fake Cash...\n",
      "Upper Count = 8  Lower Count = 24     Number Count = 5     Space Count = 8     Other Character Count = 5\n"
     ]
    }
   ],
   "source": [
    "### YOUR CODE GOES BELOW\n",
    "\n",
    "\n",
    "def cntUpperLower(inString): \n",
    "    upperCnt = 0\n",
    "    lowerCnt = 0\n",
    "    numberCnt = 0\n",
    "    spaceCnt = 0\n",
    "    otherCnt = 0\n",
    "    \n",
    "    for i in inString:\n",
    "        if i.isupper():\n",
    "            upperCnt += 1\n",
    "        elif i.islower():\n",
    "            lowerCnt += 1\n",
    "        elif i == \"0\":\n",
    "            numberCnt += 1\n",
    "        elif i == \"1\":\n",
    "            numberCnt += 1\n",
    "        elif i == \"2\":\n",
    "            numberCnt += 1\n",
    "        elif i == \"3\":\n",
    "            numberCnt += 1\n",
    "        elif i == \"4\":\n",
    "            numberCnt += 1\n",
    "        elif i == \"5\":\n",
    "            numberCnt += 1\n",
    "        elif i == \"6\":\n",
    "            numberCnt += 1\n",
    "        elif i == \"7\":\n",
    "            numberCnt += 1\n",
    "        elif i == \"8\":\n",
    "            numberCnt += 1\n",
    "        elif i == \"9\":\n",
    "            numberCnt += 1            \n",
    "        elif i == \" \":\n",
    "            spaceCnt += 1\n",
    "        else: \n",
    "            otherCnt += 1\n",
    "        \n",
    "        \n",
    "    return ([upperCnt, lowerCnt, numberCnt, spaceCnt, otherCnt])\n",
    "\n",
    "\n",
    "InputString = \"\"\n",
    "InputString = raw_input(\"Enter a String: \")\n",
    "        \n",
    "[upperCnt, lowerCnt, numberCnt, spaceCnt, otherCnt] = cntUpperLower(InputString)\n",
    "\n",
    "print \"Upper Count = \" + str(upperCnt) + \"  Lower Count = \" + str(lowerCnt) + \"     Number Count = \" + str(numberCnt) + \"     Space Count = \" +   str(spaceCnt) + \"     Other Character Count = \" + str(otherCnt) \n",
    "\n",
    "### END CODE"
   ]
  },
  {
   "cell_type": "markdown",
   "metadata": {},
   "source": [
    "#### Exercise 7\n",
    "\n",
    " Write a Python function to print the even numbers from a given list..\n",
    " \n",
    " Make sure you invoke this function in your main program and display the result"
   ]
  },
  {
   "cell_type": "code",
   "execution_count": 42,
   "metadata": {},
   "outputs": [
    {
     "name": "stdout",
     "output_type": "stream",
     "text": [
      "Enter A Number (enter to exit): 2\n",
      "Enter A Number (enter to exit): 3\n",
      "Enter A Number (enter to exit): 4\n",
      "Enter A Number (enter to exit): 5\n",
      "Enter A Number (enter to exit): 6\n",
      "Enter A Number (enter to exit): 7\n",
      "Enter A Number (enter to exit): \n",
      "2\n",
      "4\n",
      "6\n"
     ]
    }
   ],
   "source": [
    "### YOUR CODE GOES BELOW\n",
    "def FindEvenCnt(List1): \n",
    "    for i in range(len(List1)):\n",
    "        if List1[i] % 2 == 0:\n",
    "            print List1[i]\n",
    "\n",
    "\n",
    "x = 'a'\n",
    "InputList = []\n",
    "while x != '':\n",
    "    x = raw_input(\"Enter A Number (enter to exit): \")\n",
    "    if x != '':\n",
    "        y = int(x[0])\n",
    "        InputList.append(y)\n",
    "        \n",
    "FindEvenCnt(InputList)\n",
    "\n",
    "\n",
    "\n",
    "### END CODE"
   ]
  },
  {
   "cell_type": "markdown",
   "metadata": {},
   "source": [
    "#### Exercise 8\n",
    "\n",
    "Write a Python function that checks whether a passed string is palindrome or not.\n",
    "\n",
    "Make sure you invoke this function in your main program and display the result"
   ]
  },
  {
   "cell_type": "code",
   "execution_count": 44,
   "metadata": {},
   "outputs": [
    {
     "name": "stdout",
     "output_type": "stream",
     "text": [
      "Enter a String: ABBA\n",
      "Input String is a Palindrome\n"
     ]
    }
   ],
   "source": [
    "### YOUR CODE GOES BELOW\n",
    "def ReverseString(inString): \n",
    "    rs = \"\"\n",
    "    for i in inString:\n",
    "        rs = i + rs\n",
    "    return rs\n",
    "\n",
    "revString = \"\"\n",
    "InputString = \"\"\n",
    "InputString = raw_input(\"Enter a String: \")\n",
    "        \n",
    "revString = ReverseString(InputString)\n",
    "\n",
    "if revString == InputString:\n",
    "    print \"Input String is a Palindrome\"\n",
    "else:\n",
    "    print \"Input String is Not a Palindrome\"\n",
    "\n",
    "\n",
    "\n",
    "\n",
    "### END CODE"
   ]
  },
  {
   "cell_type": "markdown",
   "metadata": {
    "collapsed": true
   },
   "source": [
    "#### Exercise 9\n",
    "\n",
    "Write a recursive Python program to compute the fibonnaci number for a given index.\n",
    "\n",
    "This is what a fibonacci series is https://www.mathsisfun.com/numbers/fibonacci-sequence.html\n",
    "\n",
    "Make sure you invoke this function in your main program and display the result"
   ]
  },
  {
   "cell_type": "code",
   "execution_count": 49,
   "metadata": {},
   "outputs": [
    {
     "name": "stdout",
     "output_type": "stream",
     "text": [
      "Enter A Fibonnaci index: 7\n",
      "13\n"
     ]
    }
   ],
   "source": [
    "### YOUR CODE GOES BELOW\n",
    "def FindFibonnaci(index): \n",
    "    if index == 0:\n",
    "        return 0\n",
    "    elif index == 1:\n",
    "        return 1\n",
    "    else:\n",
    "        return FindFibonnaci(index-2) + FindFibonnaci(index -1)\n",
    "        \n",
    "\n",
    "x = 'a'\n",
    "y = 0\n",
    "x = int(raw_input(\"Enter A Fibonnaci index: \"))\n",
    "        \n",
    "fibNum = FindFibonnaci(x)\n",
    "\n",
    "print fibNum\n",
    "\n",
    "\n",
    "\n",
    "### END CODE"
   ]
  },
  {
   "cell_type": "markdown",
   "metadata": {},
   "source": [
    "#### Exercise 10\n",
    "\n",
    "Write a python program to autocorrect user input using the edit distance method. \n",
    "\n",
    "Make sure you invoke this function in your main program and display the result"
   ]
  },
  {
   "cell_type": "code",
   "execution_count": null,
   "metadata": {
    "collapsed": true
   },
   "outputs": [],
   "source": [
    "### YOUR CODE GOES BELOW\n",
    "\n",
    "\n",
    "### END CODE"
   ]
  }
 ],
 "metadata": {
  "kernelspec": {
   "display_name": "Python 2",
   "language": "python",
   "name": "python2"
  },
  "language_info": {
   "codemirror_mode": {
    "name": "ipython",
    "version": 2
   },
   "file_extension": ".py",
   "mimetype": "text/x-python",
   "name": "python",
   "nbconvert_exporter": "python",
   "pygments_lexer": "ipython2",
   "version": "2.7.14"
  }
 },
 "nbformat": 4,
 "nbformat_minor": 2
}
